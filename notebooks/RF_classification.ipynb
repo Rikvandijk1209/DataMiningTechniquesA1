{
 "cells": [
  {
   "cell_type": "code",
   "execution_count": 1,
   "id": "69c8f871",
   "metadata": {},
   "outputs": [
    {
     "name": "stdout",
     "output_type": "stream",
     "text": [
      "Added the path (/Users/madalenabarcelo/Desktop/BA/DMT/DataMiningTechniquesA1) to sys.path\n"
     ]
    }
   ],
   "source": [
    "%load_ext autoreload\n",
    "%autoreload 2\n",
    "%run ./initializer"
   ]
  },
  {
   "cell_type": "code",
   "execution_count": 2,
   "id": "0789b16a",
   "metadata": {},
   "outputs": [
    {
     "name": "stderr",
     "output_type": "stream",
     "text": [
      "\n",
      "A module that was compiled using NumPy 1.x cannot be run in\n",
      "NumPy 2.2.5 as it may crash. To support both 1.x and 2.x\n",
      "versions of NumPy, modules must be compiled with NumPy 2.0.\n",
      "Some module may need to rebuild instead e.g. with 'pybind11>=2.12'.\n",
      "\n",
      "If you are a user of the module, the easiest solution will be to\n",
      "downgrade to 'numpy<2' or try to upgrade the affected module.\n",
      "We expect that some modules will need time to support NumPy 2.\n",
      "\n",
      "Traceback (most recent call last):  File \"/usr/local/Cellar/python@3.10/3.10.16/Frameworks/Python.framework/Versions/3.10/lib/python3.10/runpy.py\", line 196, in _run_module_as_main\n",
      "    return _run_code(code, main_globals, None,\n",
      "  File \"/usr/local/Cellar/python@3.10/3.10.16/Frameworks/Python.framework/Versions/3.10/lib/python3.10/runpy.py\", line 86, in _run_code\n",
      "    exec(code, run_globals)\n",
      "  File \"/Users/madalenabarcelo/Desktop/BA/DMT/DataMiningTechniquesA1/notebooks/.venv/lib/python3.10/site-packages/ipykernel_launcher.py\", line 18, in <module>\n",
      "    app.launch_new_instance()\n",
      "  File \"/Users/madalenabarcelo/Desktop/BA/DMT/DataMiningTechniquesA1/notebooks/.venv/lib/python3.10/site-packages/traitlets/config/application.py\", line 1075, in launch_instance\n",
      "    app.start()\n",
      "  File \"/Users/madalenabarcelo/Desktop/BA/DMT/DataMiningTechniquesA1/notebooks/.venv/lib/python3.10/site-packages/ipykernel/kernelapp.py\", line 739, in start\n",
      "    self.io_loop.start()\n",
      "  File \"/Users/madalenabarcelo/Desktop/BA/DMT/DataMiningTechniquesA1/notebooks/.venv/lib/python3.10/site-packages/tornado/platform/asyncio.py\", line 205, in start\n",
      "    self.asyncio_loop.run_forever()\n",
      "  File \"/usr/local/Cellar/python@3.10/3.10.16/Frameworks/Python.framework/Versions/3.10/lib/python3.10/asyncio/base_events.py\", line 603, in run_forever\n",
      "    self._run_once()\n",
      "  File \"/usr/local/Cellar/python@3.10/3.10.16/Frameworks/Python.framework/Versions/3.10/lib/python3.10/asyncio/base_events.py\", line 1909, in _run_once\n",
      "    handle._run()\n",
      "  File \"/usr/local/Cellar/python@3.10/3.10.16/Frameworks/Python.framework/Versions/3.10/lib/python3.10/asyncio/events.py\", line 80, in _run\n",
      "    self._context.run(self._callback, *self._args)\n",
      "  File \"/Users/madalenabarcelo/Desktop/BA/DMT/DataMiningTechniquesA1/notebooks/.venv/lib/python3.10/site-packages/ipykernel/kernelbase.py\", line 545, in dispatch_queue\n",
      "    await self.process_one()\n",
      "  File \"/Users/madalenabarcelo/Desktop/BA/DMT/DataMiningTechniquesA1/notebooks/.venv/lib/python3.10/site-packages/ipykernel/kernelbase.py\", line 534, in process_one\n",
      "    await dispatch(*args)\n",
      "  File \"/Users/madalenabarcelo/Desktop/BA/DMT/DataMiningTechniquesA1/notebooks/.venv/lib/python3.10/site-packages/ipykernel/kernelbase.py\", line 437, in dispatch_shell\n",
      "    await result\n",
      "  File \"/Users/madalenabarcelo/Desktop/BA/DMT/DataMiningTechniquesA1/notebooks/.venv/lib/python3.10/site-packages/ipykernel/ipkernel.py\", line 362, in execute_request\n",
      "    await super().execute_request(stream, ident, parent)\n",
      "  File \"/Users/madalenabarcelo/Desktop/BA/DMT/DataMiningTechniquesA1/notebooks/.venv/lib/python3.10/site-packages/ipykernel/kernelbase.py\", line 778, in execute_request\n",
      "    reply_content = await reply_content\n",
      "  File \"/Users/madalenabarcelo/Desktop/BA/DMT/DataMiningTechniquesA1/notebooks/.venv/lib/python3.10/site-packages/ipykernel/ipkernel.py\", line 449, in do_execute\n",
      "    res = shell.run_cell(\n",
      "  File \"/Users/madalenabarcelo/Desktop/BA/DMT/DataMiningTechniquesA1/notebooks/.venv/lib/python3.10/site-packages/ipykernel/zmqshell.py\", line 549, in run_cell\n",
      "    return super().run_cell(*args, **kwargs)\n",
      "  File \"/Users/madalenabarcelo/Desktop/BA/DMT/DataMiningTechniquesA1/notebooks/.venv/lib/python3.10/site-packages/IPython/core/interactiveshell.py\", line 3077, in run_cell\n",
      "    result = self._run_cell(\n",
      "  File \"/Users/madalenabarcelo/Desktop/BA/DMT/DataMiningTechniquesA1/notebooks/.venv/lib/python3.10/site-packages/IPython/core/interactiveshell.py\", line 3132, in _run_cell\n",
      "    result = runner(coro)\n",
      "  File \"/Users/madalenabarcelo/Desktop/BA/DMT/DataMiningTechniquesA1/notebooks/.venv/lib/python3.10/site-packages/IPython/core/async_helpers.py\", line 128, in _pseudo_sync_runner\n",
      "    coro.send(None)\n",
      "  File \"/Users/madalenabarcelo/Desktop/BA/DMT/DataMiningTechniquesA1/notebooks/.venv/lib/python3.10/site-packages/IPython/core/interactiveshell.py\", line 3336, in run_cell_async\n",
      "    has_raised = await self.run_ast_nodes(code_ast.body, cell_name,\n",
      "  File \"/Users/madalenabarcelo/Desktop/BA/DMT/DataMiningTechniquesA1/notebooks/.venv/lib/python3.10/site-packages/IPython/core/interactiveshell.py\", line 3519, in run_ast_nodes\n",
      "    if await self.run_code(code, result, async_=asy):\n",
      "  File \"/Users/madalenabarcelo/Desktop/BA/DMT/DataMiningTechniquesA1/notebooks/.venv/lib/python3.10/site-packages/IPython/core/interactiveshell.py\", line 3579, in run_code\n",
      "    exec(code_obj, self.user_global_ns, self.user_ns)\n",
      "  File \"/var/folders/dh/_xb_27wd2qg4j5p7s0bnfz1w0000gn/T/ipykernel_91134/4172919430.py\", line 1, in <module>\n",
      "    from random_forest_classifier_2a import RandomForestMoodModel, plot_predicted_vs_actual\n",
      "  File \"/Users/madalenabarcelo/Desktop/BA/DMT/DataMiningTechniquesA1/random_forest_classifier_2a.py\", line 7, in <module>\n",
      "    from torch.utils.data import Dataset, DataLoader\n",
      "  File \"/Users/madalenabarcelo/Desktop/BA/DMT/DataMiningTechniquesA1/notebooks/.venv/lib/python3.10/site-packages/torch/__init__.py\", line 1477, in <module>\n",
      "    from .functional import *  # noqa: F403\n",
      "  File \"/Users/madalenabarcelo/Desktop/BA/DMT/DataMiningTechniquesA1/notebooks/.venv/lib/python3.10/site-packages/torch/functional.py\", line 9, in <module>\n",
      "    import torch.nn.functional as F\n",
      "  File \"/Users/madalenabarcelo/Desktop/BA/DMT/DataMiningTechniquesA1/notebooks/.venv/lib/python3.10/site-packages/torch/nn/__init__.py\", line 1, in <module>\n",
      "    from .modules import *  # noqa: F403\n",
      "  File \"/Users/madalenabarcelo/Desktop/BA/DMT/DataMiningTechniquesA1/notebooks/.venv/lib/python3.10/site-packages/torch/nn/modules/__init__.py\", line 35, in <module>\n",
      "    from .transformer import TransformerEncoder, TransformerDecoder, \\\n",
      "  File \"/Users/madalenabarcelo/Desktop/BA/DMT/DataMiningTechniquesA1/notebooks/.venv/lib/python3.10/site-packages/torch/nn/modules/transformer.py\", line 20, in <module>\n",
      "    device: torch.device = torch.device(torch._C._get_default_device()),  # torch.device('cpu'),\n",
      "/Users/madalenabarcelo/Desktop/BA/DMT/DataMiningTechniquesA1/notebooks/.venv/lib/python3.10/site-packages/torch/nn/modules/transformer.py:20: UserWarning: Failed to initialize NumPy: _ARRAY_API not found (Triggered internally at /Users/runner/work/pytorch/pytorch/pytorch/torch/csrc/utils/tensor_numpy.cpp:84.)\n",
      "  device: torch.device = torch.device(torch._C._get_default_device()),  # torch.device('cpu'),\n"
     ]
    }
   ],
   "source": [
    "from random_forest_classifier_2a import RandomForestMoodModel, plot_predicted_vs_actual\n",
    "from sklearn.metrics import classification_report\n",
    "from sklearn.model_selection import train_test_split\n",
    "\n",
    "from data_loading import DataPreprocessor\n",
    "from random_forest_classifier_2a import split_train_val_per_id"
   ]
  },
  {
   "cell_type": "code",
   "execution_count": 3,
   "id": "de465d28",
   "metadata": {},
   "outputs": [
    {
     "name": "stdout",
     "output_type": "stream",
     "text": [
      "Removed 53 outliers from 1268 observations. Percentage: 4.18%\n"
     ]
    }
   ],
   "source": [
    "data_loader = DataPreprocessor()\n",
    "train_df, test_df = data_loader.load_and_preprocess_data(\"1d\", 0.5, 1, for_RNN_model=False)"
   ]
  },
  {
   "cell_type": "code",
   "execution_count": 8,
   "id": "20f2ff6f",
   "metadata": {},
   "outputs": [
    {
     "name": "stdout",
     "output_type": "stream",
     "text": [
      "\n",
      "Validation Report:\n",
      "              precision    recall  f1-score   support\n",
      "\n",
      "           7       0.00      0.00      0.00         1\n",
      "          10       0.00      0.00      0.00         3\n",
      "          11       0.00      0.00      0.00        13\n",
      "          12       0.40      0.08      0.13        25\n",
      "          13       0.38      0.11      0.17        28\n",
      "          14       0.41      0.90      0.56       102\n",
      "          15       0.18      0.06      0.09        34\n",
      "          16       0.50      0.03      0.05        38\n",
      "          17       0.00      0.00      0.00         3\n",
      "          18       0.00      0.00      0.00         3\n",
      "\n",
      "    accuracy                           0.40       250\n",
      "   macro avg       0.19      0.12      0.10       250\n",
      "weighted avg       0.35      0.40      0.28       250\n",
      "\n",
      "Daily average RMSE: 1.155661825899958\n",
      "Mean Error: -0.2763623615267214\n",
      "         id  predicted_mood_class\n",
      "0   AS14.01                    14\n",
      "1   AS14.02                    14\n",
      "2   AS14.03                    14\n",
      "3   AS14.05                    14\n",
      "4   AS14.06                    14\n",
      "5   AS14.07                    14\n",
      "6   AS14.08                    14\n",
      "7   AS14.09                    13\n",
      "8   AS14.12                    14\n",
      "9   AS14.13                    14\n",
      "10  AS14.14                    12\n",
      "11  AS14.15                    14\n",
      "12  AS14.16                    14\n",
      "13  AS14.17                    14\n",
      "14  AS14.19                    14\n",
      "15  AS14.20                    14\n",
      "16  AS14.23                    14\n",
      "17  AS14.24                    14\n",
      "18  AS14.25                    14\n",
      "19  AS14.26                    13\n",
      "20  AS14.27                    14\n",
      "21  AS14.28                    14\n",
      "22  AS14.29                    14\n",
      "23  AS14.30                    14\n",
      "24  AS14.31                    14\n",
      "25  AS14.32                    14\n",
      "26  AS14.33                    14\n"
     ]
    },
    {
     "name": "stderr",
     "output_type": "stream",
     "text": [
      "/Users/madalenabarcelo/Desktop/BA/DMT/DataMiningTechniquesA1/notebooks/.venv/lib/python3.10/site-packages/sklearn/metrics/_classification.py:1565: UndefinedMetricWarning: Precision is ill-defined and being set to 0.0 in labels with no predicted samples. Use `zero_division` parameter to control this behavior.\n",
      "  _warn_prf(average, modifier, f\"{metric.capitalize()} is\", len(result))\n",
      "/Users/madalenabarcelo/Desktop/BA/DMT/DataMiningTechniquesA1/notebooks/.venv/lib/python3.10/site-packages/sklearn/metrics/_classification.py:1565: UndefinedMetricWarning: Precision is ill-defined and being set to 0.0 in labels with no predicted samples. Use `zero_division` parameter to control this behavior.\n",
      "  _warn_prf(average, modifier, f\"{metric.capitalize()} is\", len(result))\n",
      "/Users/madalenabarcelo/Desktop/BA/DMT/DataMiningTechniquesA1/notebooks/.venv/lib/python3.10/site-packages/sklearn/metrics/_classification.py:1565: UndefinedMetricWarning: Precision is ill-defined and being set to 0.0 in labels with no predicted samples. Use `zero_division` parameter to control this behavior.\n",
      "  _warn_prf(average, modifier, f\"{metric.capitalize()} is\", len(result))\n"
     ]
    }
   ],
   "source": [
    "# 1. Prepare features and labels, filtering rare classes\n",
    "label_counts = train_df['mood'].value_counts()\n",
    "valid_labels = label_counts[label_counts >= 2].index\n",
    "train_df_filtered = train_df[train_df['mood'].isin(valid_labels)]\n",
    "\n",
    "# Keep date column for evaluation\n",
    "dates = train_df_filtered['date']\n",
    "\n",
    "# Then drop id, mood, and date for features\n",
    "features = train_df_filtered.drop(columns=['id', 'mood', 'date'])\n",
    "labels = train_df_filtered['mood']\n",
    "\n",
    "# 2. Use split_train_val_per_id to split data\n",
    "train_user_df, val_user_df = split_train_val_per_id(train_df_filtered, val_frac=0.2)\n",
    "\n",
    "# Prepare training and validation data for the model\n",
    "X_train = train_user_df.drop(columns=[\"id\", \"mood\", \"date\"])\n",
    "y_train = train_user_df[\"mood\"]\n",
    "X_val = val_user_df.drop(columns=[\"id\", \"mood\", \"date\"])\n",
    "y_val = val_user_df[\"mood\"]\n",
    "\n",
    "# Also save dates for validation set for evaluation\n",
    "dates_val = val_user_df['date']\n",
    "\n",
    "# 3. Train the classifier with class weights\n",
    "model = RandomForestMoodModel(class_weight='balanced', random_state=42)\n",
    "model.fit(X_train, y_train)\n",
    "\n",
    "# 4. Evaluate on validation set\n",
    "val_preds = model.predict(X_val)\n",
    "print(\"\\nValidation Report:\")\n",
    "print(classification_report(y_val, val_preds))\n",
    "\n",
    "# 5. Evaluate daily average performance\n",
    "rmse, mean_error = model.evaluate_daily_average_performance(y_val, val_preds, dates_val)\n",
    "print(\"Daily average RMSE:\", rmse)\n",
    "print(\"Mean Error:\", mean_error)\n",
    "\n",
    "# 6. Predict on test set\n",
    "X_test = test_df.drop(columns=['id', 'mood', 'date'])\n",
    "test_preds = model.predict(X_test)\n",
    "\n",
    "# 7. Attach predictions\n",
    "test_df_with_preds = test_df.copy()\n",
    "test_df_with_preds['predicted_mood_class'] = test_preds\n",
    "\n",
    "# 8. Output predictions\n",
    "print(test_df_with_preds[['id', 'predicted_mood_class']])\n"
   ]
  },
  {
   "cell_type": "code",
   "execution_count": 9,
   "id": "86525c54",
   "metadata": {},
   "outputs": [
    {
     "name": "stdout",
     "output_type": "stream",
     "text": [
      "Daily average RMSE: 1.155661825899958\n",
      "Mean Error: -0.2763623615267214\n"
     ]
    },
    {
     "data": {
      "image/png": "[encoded data removed]",
      "text/plain": [
       "<Figure size 800x600 with 1 Axes>"
      ]
     },
     "metadata": {},
     "output_type": "display_data"
    }
   ],
   "source": [
    "rmse, mean_error = model.evaluate_daily_average_performance(y_val, val_preds, dates_val)\n",
    "print(\"Daily average RMSE:\", rmse)\n",
    "print(\"Mean Error:\", mean_error)\n",
    "\n",
    "plot_predicted_vs_actual(y_val, val_preds)"
   ]
  }
 ],
 "metadata": {
  "kernelspec": {
   "display_name": ".venv",
   "language": "python",
   "name": "python3"
  },
  "language_info": {
   "codemirror_mode": {
    "name": "ipython",
    "version": 3
   },
   "file_extension": ".py",
   "mimetype": "text/x-python",
   "name": "python",
   "nbconvert_exporter": "python",
   "pygments_lexer": "ipython3",
   "version": "3.10.16"
  }
 },
 "nbformat": 4,
 "nbformat_minor": 5
}
