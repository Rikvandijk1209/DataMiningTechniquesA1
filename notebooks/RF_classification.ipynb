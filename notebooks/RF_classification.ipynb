{
 "cells": [
  {
   "cell_type": "code",
   "execution_count": 1,
   "id": "69c8f871",
   "metadata": {},
   "outputs": [
    {
     "name": "stdout",
     "output_type": "stream",
     "text": [
      "Added the path (/Users/rik/Documents/VU/DMT/DataMiningTechniquesA1) to sys.path\n"
     ]
    }
   ],
   "source": [
    "%load_ext autoreload\n",
    "%autoreload 2\n",
    "%run ./initializer"
   ]
  },
  {
   "cell_type": "code",
   "execution_count": 2,
   "id": "0789b16a",
   "metadata": {},
   "outputs": [],
   "source": [
    "from random_forest_classifier_2a import RandomForestMoodModel, plot_predicted_vs_actual\n",
    "from sklearn.metrics import classification_report\n",
    "from sklearn.model_selection import train_test_split\n",
    "\n",
    "from data_loading import DataPreprocessor"
   ]
  },
  {
   "cell_type": "code",
   "execution_count": 3,
   "id": "de465d28",
   "metadata": {},
   "outputs": [
    {
     "name": "stdout",
     "output_type": "stream",
     "text": [
      "Removed 56 outliers from 1268 observations. Percentage: 4.42%\n"
     ]
    }
   ],
   "source": [
    "data_loader = DataPreprocessor()\n",
    "train_df, test_df = data_loader.load_and_preprocess_data(\"1d\", 0.5, 1, for_RNN_model=False)"
   ]
  },
  {
   "cell_type": "code",
   "execution_count": 4,
   "id": "20f2ff6f",
   "metadata": {},
   "outputs": [
    {
     "name": "stdout",
     "output_type": "stream",
     "text": [
      "\n",
      "Validation Report:\n",
      "              precision    recall  f1-score   support\n",
      "\n",
      "           7       0.00      0.00      0.00         1\n",
      "           8       0.00      0.00      0.00         1\n",
      "           9       0.00      0.00      0.00         1\n",
      "          10       0.00      0.00      0.00         2\n",
      "          11       0.00      0.00      0.00         6\n",
      "          12       0.75      0.11      0.19        27\n",
      "          13       0.25      0.06      0.10        34\n",
      "          14       0.40      0.90      0.56        92\n",
      "          15       0.20      0.05      0.08        39\n",
      "          16       0.36      0.15      0.21        34\n",
      "          17       0.00      0.00      0.00         4\n",
      "          18       0.00      0.00      0.00         1\n",
      "\n",
      "    accuracy                           0.39       242\n",
      "   macro avg       0.16      0.11      0.09       242\n",
      "weighted avg       0.35      0.39      0.29       242\n",
      "\n",
      "         id  predicted_mood_class\n",
      "0   AS14.01                    14\n",
      "1   AS14.02                    14\n",
      "2   AS14.03                    14\n",
      "3   AS14.05                    14\n",
      "4   AS14.06                    14\n",
      "5   AS14.07                    14\n",
      "6   AS14.08                    14\n",
      "7   AS14.09                    14\n",
      "8   AS14.12                    14\n",
      "9   AS14.13                    16\n",
      "10  AS14.14                    14\n",
      "11  AS14.15                    14\n",
      "12  AS14.16                    14\n",
      "13  AS14.17                    14\n",
      "14  AS14.19                    14\n",
      "15  AS14.20                    14\n",
      "16  AS14.23                    14\n",
      "17  AS14.24                    14\n",
      "18  AS14.25                    14\n",
      "19  AS14.26                    14\n",
      "20  AS14.27                    14\n",
      "21  AS14.28                    14\n",
      "22  AS14.29                    14\n",
      "23  AS14.30                    14\n",
      "24  AS14.31                    14\n",
      "25  AS14.32                    14\n",
      "26  AS14.33                    14\n"
     ]
    },
    {
     "name": "stderr",
     "output_type": "stream",
     "text": [
      "/Users/rik/Documents/VU/DMT/DataMiningTechniquesA1/.venv/lib/python3.11/site-packages/sklearn/metrics/_classification.py:1565: UndefinedMetricWarning: Precision is ill-defined and being set to 0.0 in labels with no predicted samples. Use `zero_division` parameter to control this behavior.\n",
      "  _warn_prf(average, modifier, f\"{metric.capitalize()} is\", len(result))\n",
      "/Users/rik/Documents/VU/DMT/DataMiningTechniquesA1/.venv/lib/python3.11/site-packages/sklearn/metrics/_classification.py:1565: UndefinedMetricWarning: Precision is ill-defined and being set to 0.0 in labels with no predicted samples. Use `zero_division` parameter to control this behavior.\n",
      "  _warn_prf(average, modifier, f\"{metric.capitalize()} is\", len(result))\n",
      "/Users/rik/Documents/VU/DMT/DataMiningTechniquesA1/.venv/lib/python3.11/site-packages/sklearn/metrics/_classification.py:1565: UndefinedMetricWarning: Precision is ill-defined and being set to 0.0 in labels with no predicted samples. Use `zero_division` parameter to control this behavior.\n",
      "  _warn_prf(average, modifier, f\"{metric.capitalize()} is\", len(result))\n"
     ]
    }
   ],
   "source": [
    "# 1. Prepare features and labels, filtering rare classes\n",
    "label_counts = train_df['mood'].value_counts()\n",
    "valid_labels = label_counts[label_counts >= 2].index\n",
    "train_df_filtered = train_df[train_df['mood'].isin(valid_labels)]\n",
    "\n",
    "# Keep date column for evaluation\n",
    "dates = train_df_filtered['date']\n",
    "\n",
    "# Then drop id, mood, and date for features\n",
    "features = train_df_filtered.drop(columns=['id', 'mood', 'date'])\n",
    "labels = train_df_filtered['mood']\n",
    "\n",
    "# Train-validation split\n",
    "X_train, X_val, y_train, y_val, dates_train, dates_val = train_test_split(\n",
    "    features, labels, dates, test_size=0.2, stratify=labels, random_state=42\n",
    ")\n",
    "\n",
    "# 3. Train the classifier with class weights\n",
    "model = RandomForestMoodModel(class_weight='balanced', random_state=42)\n",
    "model.fit(X_train, y_train)\n",
    "\n",
    "# 4. Evaluate on validation set\n",
    "val_preds = model.predict(X_val)\n",
    "print(\"\\nValidation Report:\")\n",
    "print(classification_report(y_val, val_preds))\n",
    "\n",
    "# 5. Predict on test set\n",
    "X_test = test_df.drop(columns=['id', 'mood', 'date'])\n",
    "test_preds = model.predict(X_test)\n",
    "\n",
    "# 6. Attach predictions\n",
    "test_df_with_preds = test_df.copy()\n",
    "test_df_with_preds['predicted_mood_class'] = test_preds\n",
    "\n",
    "# 7. Output predictions\n",
    "print(test_df_with_preds[['id', 'predicted_mood_class']])"
   ]
  },
  {
   "cell_type": "code",
   "execution_count": 5,
   "id": "86525c54",
   "metadata": {},
   "outputs": [
    {
     "name": "stdout",
     "output_type": "stream",
     "text": [
      "Daily average RMSE: 1.060490722058682\n",
      "Mean Error: -0.1624036281179138\n"
     ]
    },
    {
     "data": {
      "image/png": "[encoded data removed]",
      "text/plain": [
       "<Figure size 800x600 with 1 Axes>"
      ]
     },
     "metadata": {},
     "output_type": "display_data"
    }
   ],
   "source": [
    "rmse, mean_error = model.evaluate_daily_average_performance(y_val, val_preds, dates_val)\n",
    "print(\"Daily average RMSE:\", rmse)\n",
    "print(\"Mean Error:\", mean_error)\n",
    "\n",
    "plot_predicted_vs_actual(y_val, val_preds)"
   ]
  }
 ],
 "metadata": {
  "kernelspec": {
   "display_name": ".venv",
   "language": "python",
   "name": "python3"
  },
  "language_info": {
   "codemirror_mode": {
    "name": "ipython",
    "version": 3
   },
   "file_extension": ".py",
   "mimetype": "text/x-python",
   "name": "python",
   "nbconvert_exporter": "python",
   "pygments_lexer": "ipython3",
   "version": "3.11.6"
  }
 },
 "nbformat": 4,
 "nbformat_minor": 5
}
