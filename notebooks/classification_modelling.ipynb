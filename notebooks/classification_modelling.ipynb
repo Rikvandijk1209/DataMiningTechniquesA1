{
 "cells": [
  {
   "cell_type": "code",
   "execution_count": 1,
   "id": "d60ca131",
   "metadata": {},
   "outputs": [
    {
     "name": "stdout",
     "output_type": "stream",
     "text": [
      "Added the path (/Users/rik/Documents/VU/DMT/DataMiningTechniquesA1) to sys.path\n"
     ]
    }
   ],
   "source": [
    "%load_ext autoreload\n",
    "%autoreload 2\n",
    "%run ./initializer"
   ]
  },
  {
   "cell_type": "code",
   "execution_count": 2,
   "id": "8cf5c0e4",
   "metadata": {},
   "outputs": [
    {
     "name": "stderr",
     "output_type": "stream",
     "text": [
      "/Users/rik/Documents/VU/DMT/DataMiningTechniquesA1/.venv/lib/python3.11/site-packages/tqdm/auto.py:21: TqdmWarning: IProgress not found. Please update jupyter and ipywidgets. See https://ipywidgets.readthedocs.io/en/stable/user_install.html\n",
      "  from .autonotebook import tqdm as notebook_tqdm\n"
     ]
    }
   ],
   "source": [
    "import torch\n",
    "import torch.nn as nn\n",
    "import optuna\n",
    "from sklearn.model_selection import train_test_split\n",
    "import polars as pl\n",
    "import pandas as pd\n",
    "\n",
    "from data_loading import DataPreprocessor\n",
    "from mood_RNN_classifier import RNNClassifier, MoodDataset, OrdinalLabelSmoothingLoss, split_train_val, objective, train_epoch, evaluate, predict, plot_mood_predictions\n",
    "from torch.utils.data import DataLoader"
   ]
  },
  {
   "cell_type": "code",
   "execution_count": 3,
   "id": "9c42a51b",
   "metadata": {},
   "outputs": [],
   "source": [
    "data_loader = DataPreprocessor()\n",
    "train_df, test_df = data_loader.load_and_preprocess_data(\"1d\")"
   ]
  },
  {
   "cell_type": "code",
   "execution_count": 4,
   "id": "e6928e5b",
   "metadata": {},
   "outputs": [],
   "source": [
    "device = torch.device(\"cuda\" if torch.cuda.is_available() else \"cpu\")\n",
    "\n",
    "# Assume train_df and test_df are loaded and preprocessed\n",
    "id_map = {id_: idx for idx, id_ in enumerate(train_df['id'].unique())}\n",
    "input_dim = train_df.drop(columns=['id', 'mood', 'date']).shape[1]\n",
    "id_count = len(id_map)\n",
    "output_dim = train_df['mood'].max() + 1\n",
    "\n",
    "train_df_split, val_df_split = split_train_val(train_df, fraction=0.2)"
   ]
  },
  {
   "cell_type": "code",
   "execution_count": 5,
   "id": "f6c89292",
   "metadata": {},
   "outputs": [
    {
     "name": "stderr",
     "output_type": "stream",
     "text": [
      "[I 2025-04-17 19:27:26,688] A new study created in memory with name: no-name-0281763f-0edb-41da-8791-c8dd3a8fa8fa\n",
      "[I 2025-04-17 19:27:27,693] Trial 0 finished with value: 0.5496502667665482 and parameters: {'hidden_dim': 60, 'id_embed_dim': 13, 'lr': 0.0014580731961892637, 'batch_size': 128, 'alpha': 0.11733871865715935}. Best is trial 0 with value: 0.5496502667665482.\n",
      "[I 2025-04-17 19:27:27,956] Trial 1 finished with value: 0.5442429706454277 and parameters: {'hidden_dim': 101, 'id_embed_dim': 6, 'lr': 0.008764135434220248, 'batch_size': 32, 'alpha': 0.14113416312981794}. Best is trial 1 with value: 0.5442429706454277.\n",
      "[I 2025-04-17 19:27:28,121] Trial 2 finished with value: 0.6601311415433884 and parameters: {'hidden_dim': 56, 'id_embed_dim': 16, 'lr': 0.003929244798940246, 'batch_size': 64, 'alpha': 0.22633715262114873}. Best is trial 1 with value: 0.5442429706454277.\n",
      "[I 2025-04-17 19:27:28,258] Trial 3 finished with value: 0.6806659698486328 and parameters: {'hidden_dim': 110, 'id_embed_dim': 6, 'lr': 0.000833622418876671, 'batch_size': 128, 'alpha': 0.1419020324204065}. Best is trial 1 with value: 0.5442429706454277.\n",
      "[I 2025-04-17 19:27:28,510] Trial 4 finished with value: 0.6520611643791199 and parameters: {'hidden_dim': 88, 'id_embed_dim': 12, 'lr': 0.0002811317282566194, 'batch_size': 32, 'alpha': 0.14068843468891026}. Best is trial 1 with value: 0.5442429706454277.\n",
      "[I 2025-04-17 19:27:28,636] Trial 5 finished with value: 0.23240523040294647 and parameters: {'hidden_dim': 72, 'id_embed_dim': 9, 'lr': 0.003305099600562359, 'batch_size': 128, 'alpha': 0.047794875764864686}. Best is trial 5 with value: 0.23240523040294647.\n",
      "[I 2025-04-17 19:27:28,763] Trial 6 finished with value: 0.9001670181751251 and parameters: {'hidden_dim': 65, 'id_embed_dim': 14, 'lr': 0.000933385435833894, 'batch_size': 128, 'alpha': 0.22553205396574216}. Best is trial 5 with value: 0.23240523040294647.\n",
      "[I 2025-04-17 19:27:28,938] Trial 7 finished with value: 0.5987511500716209 and parameters: {'hidden_dim': 105, 'id_embed_dim': 7, 'lr': 0.0024417506743499343, 'batch_size': 64, 'alpha': 0.17677684847919511}. Best is trial 5 with value: 0.23240523040294647.\n",
      "[I 2025-04-17 19:27:29,101] Trial 8 finished with value: 0.6601453721523285 and parameters: {'hidden_dim': 42, 'id_embed_dim': 8, 'lr': 0.00999485286260489, 'batch_size': 64, 'alpha': 0.22728973044014925}. Best is trial 5 with value: 0.23240523040294647.\n",
      "[I 2025-04-17 19:27:29,378] Trial 9 finished with value: 0.523860327899456 and parameters: {'hidden_dim': 127, 'id_embed_dim': 16, 'lr': 0.0003804442042116422, 'batch_size': 32, 'alpha': 0.13047063942735404}. Best is trial 5 with value: 0.23240523040294647.\n",
      "[I 2025-04-17 19:27:29,514] Trial 10 finished with value: 0.4732719659805298 and parameters: {'hidden_dim': 79, 'id_embed_dim': 10, 'lr': 0.00010617542478244708, 'batch_size': 128, 'alpha': 0.010500191793051283}. Best is trial 5 with value: 0.23240523040294647.\n",
      "[I 2025-04-17 19:27:29,649] Trial 11 finished with value: 0.49382999539375305 and parameters: {'hidden_dim': 77, 'id_embed_dim': 10, 'lr': 0.0001036581708996722, 'batch_size': 128, 'alpha': 0.010768904861588963}. Best is trial 5 with value: 0.23240523040294647.\n",
      "[I 2025-04-17 19:27:29,785] Trial 12 finished with value: 0.6109756827354431 and parameters: {'hidden_dim': 84, 'id_embed_dim': 10, 'lr': 0.00012503033119262558, 'batch_size': 128, 'alpha': 0.015338067598986854}. Best is trial 5 with value: 0.23240523040294647.\n",
      "[I 2025-04-17 19:27:29,908] Trial 13 finished with value: 0.3075654059648514 and parameters: {'hidden_dim': 36, 'id_embed_dim': 4, 'lr': 0.003594263105131263, 'batch_size': 128, 'alpha': 0.0627931789963275}. Best is trial 5 with value: 0.23240523040294647.\n",
      "[I 2025-04-17 19:27:30,031] Trial 14 finished with value: 0.3144167363643646 and parameters: {'hidden_dim': 32, 'id_embed_dim': 4, 'lr': 0.00398840449212154, 'batch_size': 128, 'alpha': 0.06501550411829939}. Best is trial 5 with value: 0.23240523040294647.\n",
      "[I 2025-04-17 19:27:30,160] Trial 15 finished with value: 0.30596280097961426 and parameters: {'hidden_dim': 46, 'id_embed_dim': 4, 'lr': 0.0041501960808914395, 'batch_size': 128, 'alpha': 0.06304401946092371}. Best is trial 5 with value: 0.23240523040294647.\n",
      "[I 2025-04-17 19:27:30,294] Trial 16 finished with value: 0.8369177579879761 and parameters: {'hidden_dim': 49, 'id_embed_dim': 8, 'lr': 0.0019018676603181559, 'batch_size': 128, 'alpha': 0.2920438757907764}. Best is trial 5 with value: 0.23240523040294647.\n",
      "[I 2025-04-17 19:27:30,464] Trial 17 finished with value: 0.33232924342155457 and parameters: {'hidden_dim': 72, 'id_embed_dim': 5, 'lr': 0.005865727574060041, 'batch_size': 128, 'alpha': 0.0755269662156156}. Best is trial 5 with value: 0.23240523040294647.\n",
      "[I 2025-04-17 19:27:30,721] Trial 18 finished with value: 0.44042252749204636 and parameters: {'hidden_dim': 48, 'id_embed_dim': 8, 'lr': 0.0005655825633014738, 'batch_size': 32, 'alpha': 0.08999387488072058}. Best is trial 5 with value: 0.23240523040294647.\n",
      "[I 2025-04-17 19:27:30,903] Trial 19 finished with value: 0.16984053701162338 and parameters: {'hidden_dim': 91, 'id_embed_dim': 12, 'lr': 0.0025186361026787074, 'batch_size': 64, 'alpha': 0.033178810112166335}. Best is trial 19 with value: 0.16984053701162338.\n"
     ]
    },
    {
     "name": "stdout",
     "output_type": "stream",
     "text": [
      "Best hyperparams: {'hidden_dim': 91, 'id_embed_dim': 12, 'lr': 0.0025186361026787074, 'batch_size': 64, 'alpha': 0.033178810112166335}\n"
     ]
    }
   ],
   "source": [
    "study = optuna.create_study(direction='minimize')\n",
    "study.optimize(lambda trial: objective(trial, train_df_split, val_df_split, id_map, input_dim, id_count, output_dim, device), n_trials=20)\n",
    "\n",
    "best_params = study.best_params\n",
    "print(\"Best hyperparams:\", best_params)"
   ]
  },
  {
   "cell_type": "code",
   "execution_count": 6,
   "id": "b4c89fea",
   "metadata": {},
   "outputs": [],
   "source": [
    "# Final model\n",
    "model = RNNClassifier(\n",
    "    input_dim=input_dim,\n",
    "    hidden_dim=best_params['hidden_dim'],\n",
    "    id_count=id_count,\n",
    "    id_embed_dim=best_params['id_embed_dim'],\n",
    "    output_dim=output_dim\n",
    ").to(device)\n",
    "\n",
    "optimizer = torch.optim.Adam(model.parameters(), lr=best_params['lr'])\n",
    "criterion = OrdinalLabelSmoothingLoss(num_classes=output_dim, alpha=best_params['alpha'])\n",
    "\n",
    "train_loader = DataLoader(MoodDataset(train_df_split, id_map), batch_size=best_params['batch_size'], shuffle=True)\n",
    "val_loader = DataLoader(MoodDataset(val_df_split, id_map), batch_size=best_params['batch_size'])"
   ]
  },
  {
   "cell_type": "code",
   "execution_count": 7,
   "id": "f0bfbe90",
   "metadata": {},
   "outputs": [
    {
     "name": "stdout",
     "output_type": "stream",
     "text": [
      "Epoch 1: train loss = 0.7996, val loss = 0.5973\n",
      "Epoch 2: train loss = 0.4174, val loss = 0.2898\n",
      "Epoch 3: train loss = 0.2325, val loss = 0.2106\n",
      "Epoch 4: train loss = 0.1869, val loss = 0.1917\n",
      "Epoch 5: train loss = 0.1711, val loss = 0.1800\n",
      "Epoch 6: train loss = 0.1633, val loss = 0.1749\n",
      "Epoch 7: train loss = 0.1584, val loss = 0.1707\n",
      "Epoch 8: train loss = 0.1545, val loss = 0.1709\n",
      "Epoch 9: train loss = 0.1530, val loss = 0.1732\n",
      "Epoch 10: train loss = 0.1516, val loss = 0.1672\n",
      "Epoch 11: train loss = 0.1471, val loss = 0.1688\n",
      "Epoch 12: train loss = 0.1448, val loss = 0.1657\n",
      "Epoch 13: train loss = 0.1426, val loss = 0.1667\n",
      "Epoch 14: train loss = 0.1403, val loss = 0.1673\n",
      "Epoch 15: train loss = 0.1393, val loss = 0.1661\n",
      "Epoch 16: train loss = 0.1376, val loss = 0.1632\n",
      "Epoch 17: train loss = 0.1357, val loss = 0.1678\n",
      "Epoch 18: train loss = 0.1363, val loss = 0.1668\n",
      "Epoch 19: train loss = 0.1366, val loss = 0.1651\n",
      "Epoch 20: train loss = 0.1331, val loss = 0.1618\n"
     ]
    }
   ],
   "source": [
    "for epoch in range(20):\n",
    "    train_loss = train_epoch(model, train_loader, optimizer, criterion, device)\n",
    "    val_loss = evaluate(model, val_loader, criterion, device)\n",
    "    print(f\"Epoch {epoch+1}: train loss = {train_loss:.4f}, val loss = {val_loss:.4f}\")"
   ]
  },
  {
   "cell_type": "code",
   "execution_count": 8,
   "id": "1e0c8626",
   "metadata": {},
   "outputs": [
    {
     "data": {
      "image/png": "[encoded data removed]",
      "text/plain": [
       "<Figure size 1000x600 with 1 Axes>"
      ]
     },
     "metadata": {},
     "output_type": "display_data"
    }
   ],
   "source": [
    "plot_mood_predictions(model, train_loader, device)"
   ]
  },
  {
   "cell_type": "code",
   "execution_count": 9,
   "id": "39a1aedd",
   "metadata": {},
   "outputs": [
    {
     "name": "stdout",
     "output_type": "stream",
     "text": [
      "         id  predicted_mood_class\n",
      "0   AS14.01                    29\n",
      "1   AS14.02                    29\n",
      "2   AS14.03                    30\n",
      "3   AS14.05                    28\n",
      "4   AS14.06                    30\n",
      "5   AS14.07                    25\n",
      "6   AS14.08                    28\n",
      "7   AS14.09                    28\n",
      "8   AS14.12                    24\n",
      "9   AS14.13                    32\n",
      "10  AS14.14                    28\n",
      "11  AS14.15                    29\n",
      "12  AS14.16                    29\n",
      "13  AS14.17                    29\n",
      "14  AS14.19                    28\n",
      "15  AS14.20                    29\n",
      "16  AS14.23                    32\n",
      "17  AS14.24                    28\n",
      "18  AS14.25                    28\n",
      "19  AS14.26                    28\n",
      "20  AS14.27                    30\n",
      "21  AS14.28                    28\n",
      "22  AS14.29                    28\n",
      "23  AS14.30                    30\n",
      "24  AS14.31                    28\n",
      "25  AS14.32                    30\n",
      "26  AS14.33                    29\n"
     ]
    }
   ],
   "source": [
    "# Run predictions on test_df\n",
    "test_predictions = predict(model, test_df, id_map, device)\n",
    "\n",
    "# Attach predictions to test_df\n",
    "test_df_with_preds = test_df.copy()\n",
    "test_df_with_preds['predicted_mood_class'] = test_predictions\n",
    "\n",
    "# Optional: save to CSV or examine\n",
    "print(test_df_with_preds[['id', 'predicted_mood_class']])"
   ]
  },
  {
   "cell_type": "code",
   "execution_count": 10,
   "id": "e3933caa",
   "metadata": {},
   "outputs": [
    {
     "data": {
      "text/plain": [
       "(array([25, 26, 28, 24, 27, 32, 30, 29, 31, 33, 23, 18, 20, 22, 36, 35, 34,\n",
       "        15, 21, 14, 19, 16, 12, 38], dtype=int32),\n",
       " mood\n",
       " 28    301\n",
       " 29    138\n",
       " 32    128\n",
       " 30    124\n",
       " 26    103\n",
       " 27     98\n",
       " 31     98\n",
       " 24     66\n",
       " 25     65\n",
       " 33     21\n",
       " 22     17\n",
       " 23     17\n",
       " 34     13\n",
       " 20      7\n",
       " 35      6\n",
       " 21      5\n",
       " 36      4\n",
       " 18      3\n",
       " 14      3\n",
       " 15      2\n",
       " 19      2\n",
       " 16      1\n",
       " 12      1\n",
       " 38      1\n",
       " Name: count, dtype: int64)"
      ]
     },
     "execution_count": 10,
     "metadata": {},
     "output_type": "execute_result"
    }
   ],
   "source": [
    "train_df['mood'].unique(), train_df['mood'].value_counts()"
   ]
  }
 ],
 "metadata": {
  "kernelspec": {
   "display_name": ".venv",
   "language": "python",
   "name": "python3"
  },
  "language_info": {
   "codemirror_mode": {
    "name": "ipython",
    "version": 3
   },
   "file_extension": ".py",
   "mimetype": "text/x-python",
   "name": "python",
   "nbconvert_exporter": "python",
   "pygments_lexer": "ipython3",
   "version": "3.11.6"
  }
 },
 "nbformat": 4,
 "nbformat_minor": 5
}
