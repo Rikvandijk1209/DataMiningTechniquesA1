{
 "cells": [
  {
   "cell_type": "code",
   "execution_count": 1,
   "id": "d60ca131",
   "metadata": {},
   "outputs": [
    {
     "name": "stdout",
     "output_type": "stream",
     "text": [
      "Added the path (/Users/madalenabarcelo/Desktop/BA/DMT) to sys.path\n"
     ]
    }
   ],
   "source": [
    "%load_ext autoreload\n",
    "%autoreload 2\n",
    "%run ./initializer"
   ]
  },
  {
   "cell_type": "code",
   "execution_count": 2,
   "id": "8cf5c0e4",
   "metadata": {},
   "outputs": [
    {
     "name": "stderr",
     "output_type": "stream",
     "text": [
      "/Users/madalenabarcelo/Desktop/BA/DMT/notebook/.venv/lib/python3.10/site-packages/tqdm/auto.py:21: TqdmWarning: IProgress not found. Please update jupyter and ipywidgets. See https://ipywidgets.readthedocs.io/en/stable/user_install.html\n",
      "  from .autonotebook import tqdm as notebook_tqdm\n"
     ]
    }
   ],
   "source": [
    "import torch\n",
    "import torch.nn as nn\n",
    "import optuna\n",
    "from sklearn.model_selection import train_test_split\n",
    "import polars as pl\n",
    "import pandas as pd\n",
    "import matplotlib.pyplot as plt\n",
    "\n",
    "from data_loading import DataPreprocessor"
   ]
  },
  {
   "cell_type": "code",
   "execution_count": null,
   "id": "9c42a51b",
   "metadata": {},
   "outputs": [
    {
     "name": "stdout",
     "output_type": "stream",
     "text": [
      "Removed 19 outliers from 968 observations. Percentage: 1.96%\n"
     ]
    }
   ],
   "source": [
    "data_loader = DataPreprocessor()\n",
    "train_df, val_df_split, test_df = data_loader.load_and_preprocess_data(\"1d\", 0.25, 1,0)"
   ]
  },
  {
   "cell_type": "code",
   "execution_count": 24,
   "id": "e6928e5b",
   "metadata": {},
   "outputs": [],
   "source": [
    "\n",
    "\n",
    "# Drop non-numeric / irrelevant columns\n",
    "features = train_df.drop(columns=['id', 'mood', 'date'])\n",
    "target = train_df['mood']  # Mood is now treated as a continuous variable\n",
    "\n",
    "train_df = train_df.sort_values(by=[\"id\", \"date\"])\n",
    "train_df[\"next_day_mood\"] = train_df.groupby(\"id\")[\"mood\"].shift(-1)\n",
    "train_df = train_df.dropna(subset=[\"next_day_mood\"])\n",
    "\n",
    "features = train_df.drop(columns=[\"mood\", \"next_day_mood\", \"date\", \"id\"])\n",
    "target = train_df[\"next_day_mood\"]\n"
   ]
  },
  {
   "cell_type": "code",
   "execution_count": null,
   "id": "80c95e43",
   "metadata": {},
   "outputs": [
    {
     "name": "stdout",
     "output_type": "stream",
     "text": [
      "MAE: 0.10376543209876422\n",
      "MSE: 0.019428738683127184\n",
      "R²: 0.930654113931799\n",
      "    user_id  actual_next_day_mood  predicted_next_day_mood\n",
      "0   AS14.01                  7.60                 7.543000\n",
      "1   AS14.02                  7.20                 7.077500\n",
      "2   AS14.03                  7.00                 7.156000\n",
      "3   AS14.05                  7.20                 7.183500\n",
      "4   AS14.06                  7.75                 7.741000\n",
      "5   AS14.07                  6.60                 6.585000\n",
      "6   AS14.08                  7.80                 7.569000\n",
      "7   AS14.09                  6.60                 6.535000\n",
      "8   AS14.12                  5.80                 6.067000\n",
      "9   AS14.13                  7.20                 6.793500\n",
      "10  AS14.14                  7.50                 7.441500\n",
      "11  AS14.15                  7.00                 7.000000\n",
      "12  AS14.16                  7.20                 6.944000\n",
      "13  AS14.17                  7.20                 7.059000\n",
      "14  AS14.19                  6.80                 6.786000\n",
      "15  AS14.20                  6.40                 6.343000\n",
      "16  AS14.23                  7.75                 7.624000\n",
      "17  AS14.24                  7.00                 6.948000\n",
      "18  AS14.25                  7.40                 7.507000\n",
      "19  AS14.26                  6.40                 6.391000\n",
      "20  AS14.27                  7.20                 7.121000\n",
      "21  AS14.28                  7.00                 6.926500\n",
      "22  AS14.29                  7.60                 7.538500\n",
      "23  AS14.30                  8.00                 8.052000\n",
      "24  AS14.31                  7.40                 7.496000\n",
      "25  AS14.32                  7.00                 7.129667\n",
      "26  AS14.33                  6.00                 5.856000\n"
     ]
    }
   ],
   "source": [
    "from sklearn.ensemble import RandomForestRegressor\n",
    "from sklearn.metrics import mean_absolute_error, mean_squared_error, r2_score\n",
    "\n",
    "predictions = []\n",
    "actuals = []\n",
    "user_ids = []\n",
    "\n",
    "# For each user\n",
    "for user_id, group in train_df.groupby(\"id\"):\n",
    "    group = group.sort_values(\"date\").copy()\n",
    "    group[\"next_day_mood\"] = group[\"mood\"].shift(-1)\n",
    "    group = group.dropna(subset=[\"next_day_mood\"])\n",
    "\n",
    "    if len(group) < 2:\n",
    "       continue  # Not enough data for prediction\n",
    "\n",
    "    X = group.drop(columns=[\"id\", \"date\", \"mood\", \"next_day_mood\"])\n",
    "    y = group[\"next_day_mood\"]\n",
    "\n",
    "    X_train = X.iloc[:-1]\n",
    "    y_train = y.iloc[:-1]\n",
    "    X_test = X.iloc[-1:]\n",
    "    y_test = y.iloc[-1:]\n",
    "\n",
    "    model = RandomForestRegressor()\n",
    "    model.fit(X_train, y_train)\n",
    "    y_pred = model.predict(X_test)\n",
    "\n",
    "    predictions.append(y_pred[0])\n",
    "    actuals.append(y_test.values[0])\n",
    "    user_ids.append(user_id)\n",
    "\n",
    "# Evaluate across all users\n",
    "print(\"MAE:\", mean_absolute_error(actuals, predictions))\n",
    "print(\"MSE:\", mean_squared_error(actuals, predictions))\n",
    "print(\"R²:\", r2_score(actuals, predictions))\n",
    "\n",
    "# Optional: view predictions\n",
    "results_df = pd.DataFrame({\n",
    "    \"user_id\": user_ids,\n",
    "    \"actual_next_day_mood\": actuals,\n",
    "    \"predicted_next_day_mood\": predictions\n",
    "})\n",
    "print(results_df)\n"
   ]
  }
 ],
 "metadata": {
  "kernelspec": {
   "display_name": ".venv",
   "language": "python",
   "name": "python3"
  },
  "language_info": {
   "codemirror_mode": {
    "name": "ipython",
    "version": 3
   },
   "file_extension": ".py",
   "mimetype": "text/x-python",
   "name": "python",
   "nbconvert_exporter": "python",
   "pygments_lexer": "ipython3",
   "version": "3.10.16"
  }
 },
 "nbformat": 4,
 "nbformat_minor": 5
}
