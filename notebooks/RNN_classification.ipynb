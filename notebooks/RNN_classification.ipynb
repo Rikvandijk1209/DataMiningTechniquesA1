{
 "cells": [
  {
   "cell_type": "code",
   "execution_count": 1,
   "id": "d60ca131",
   "metadata": {},
   "outputs": [
    {
     "name": "stdout",
     "output_type": "stream",
     "text": [
      "Added the path (/Users/rik/Documents/VU/DMT/DataMiningTechniquesA1) to sys.path\n"
     ]
    }
   ],
   "source": [
    "%load_ext autoreload\n",
    "%autoreload 2\n",
    "%run ./initializer"
   ]
  },
  {
   "cell_type": "code",
   "execution_count": 2,
   "id": "8cf5c0e4",
   "metadata": {},
   "outputs": [
    {
     "name": "stderr",
     "output_type": "stream",
     "text": [
      "/Users/rik/Documents/VU/DMT/DataMiningTechniquesA1/.venv/lib/python3.11/site-packages/tqdm/auto.py:21: TqdmWarning: IProgress not found. Please update jupyter and ipywidgets. See https://ipywidgets.readthedocs.io/en/stable/user_install.html\n",
      "  from .autonotebook import tqdm as notebook_tqdm\n"
     ]
    }
   ],
   "source": [
    "import torch\n",
    "import torch.nn as nn\n",
    "import optuna\n",
    "from sklearn.model_selection import train_test_split\n",
    "import polars as pl\n",
    "import pandas as pd\n",
    "import matplotlib.pyplot as plt\n",
    "\n",
    "from data_loading import DataPreprocessor\n",
    "from mood_RNN_classifier import RNNClassifier, MoodDataset, OrdinalLabelSmoothingLoss, objective, train_epoch, train_final_model, evaluate, predict, plot_mood_predictions\n",
    "from torch.utils.data import DataLoader"
   ]
  },
  {
   "cell_type": "code",
   "execution_count": 3,
   "id": "9c42a51b",
   "metadata": {},
   "outputs": [
    {
     "name": "stdout",
     "output_type": "stream",
     "text": [
      "Removed 25 outliers from 1002 observations. Percentage: 2.50%\n"
     ]
    }
   ],
   "source": [
    "data_loader = DataPreprocessor()\n",
    "train_df_split, val_df_split, test_df = data_loader.load_and_preprocess_data(\"1d\", 0.5, 1)"
   ]
  },
  {
   "cell_type": "code",
   "execution_count": 4,
   "id": "e6928e5b",
   "metadata": {},
   "outputs": [],
   "source": [
    "device = torch.device(\"cuda\" if torch.cuda.is_available() else \"cpu\")\n",
    "\n",
    "# Assume train_df and test_df are loaded and preprocessed\n",
    "id_map = {id_: idx for idx, id_ in enumerate(train_df_split['id'].unique())}\n",
    "input_dim = train_df_split.drop(columns=['id', 'mood', 'date']).shape[1]\n",
    "id_count = len(id_map)\n",
    "output_dim = train_df_split['mood'].max() + 1"
   ]
  },
  {
   "cell_type": "code",
   "execution_count": 5,
   "id": "f6c89292",
   "metadata": {},
   "outputs": [
    {
     "name": "stderr",
     "output_type": "stream",
     "text": [
      "[I 2025-04-20 12:54:29,681] A new study created in memory with name: no-name-1eb9e3a5-e340-40b4-adb5-f7019d7aac38\n",
      "[I 2025-04-20 12:54:35,396] Trial 0 finished with value: 0.3277358329833898 and parameters: {'hidden_dim': 98, 'id_embed_dim': 13, 'lr': 0.0010809975293592524, 'batch_size': 32, 'alpha': 0.20518236182378605}. Best is trial 0 with value: 0.3277358329833898.\n",
      "[I 2025-04-20 12:54:35,737] Trial 1 finished with value: 0.44605851038954314 and parameters: {'hidden_dim': 82, 'id_embed_dim': 16, 'lr': 0.000319989716246688, 'batch_size': 64, 'alpha': 0.28535192919415925}. Best is trial 0 with value: 0.3277358329833898.\n",
      "[I 2025-04-20 12:54:36,221] Trial 2 finished with value: 0.2617129311525732 and parameters: {'hidden_dim': 66, 'id_embed_dim': 10, 'lr': 0.0016430260580113595, 'batch_size': 32, 'alpha': 0.16835807415945803}. Best is trial 2 with value: 0.2617129311525732.\n",
      "[I 2025-04-20 12:54:36,458] Trial 3 finished with value: 0.3167650840784374 and parameters: {'hidden_dim': 35, 'id_embed_dim': 8, 'lr': 0.0010269319460999705, 'batch_size': 128, 'alpha': 0.17015518393165602}. Best is trial 2 with value: 0.2617129311525732.\n",
      "[I 2025-04-20 12:54:36,809] Trial 4 finished with value: 0.2181925930474934 and parameters: {'hidden_dim': 115, 'id_embed_dim': 8, 'lr': 0.004139772275723566, 'batch_size': 64, 'alpha': 0.09776447054824772}. Best is trial 4 with value: 0.2181925930474934.\n",
      "[I 2025-04-20 12:54:37,153] Trial 5 finished with value: 0.35499732969398784 and parameters: {'hidden_dim': 105, 'id_embed_dim': 15, 'lr': 0.0015091896087114983, 'batch_size': 64, 'alpha': 0.2352299829150323}. Best is trial 4 with value: 0.2181925930474934.\n",
      "[I 2025-04-20 12:54:37,472] Trial 6 finished with value: 0.3725768677274087 and parameters: {'hidden_dim': 46, 'id_embed_dim': 14, 'lr': 0.0032001551988242046, 'batch_size': 64, 'alpha': 0.23309573874215325}. Best is trial 4 with value: 0.2181925930474934.\n",
      "[I 2025-04-20 12:54:37,824] Trial 7 finished with value: 0.21616157194725552 and parameters: {'hidden_dim': 128, 'id_embed_dim': 4, 'lr': 0.001298854045109371, 'batch_size': 64, 'alpha': 0.11631795911448906}. Best is trial 7 with value: 0.21616157194725552.\n",
      "[I 2025-04-20 12:54:38,164] Trial 8 finished with value: 0.26120007934426903 and parameters: {'hidden_dim': 92, 'id_embed_dim': 14, 'lr': 0.00018253808914749252, 'batch_size': 64, 'alpha': 0.0760914043170719}. Best is trial 7 with value: 0.21616157194725552.\n",
      "[I 2025-04-20 12:54:38,517] Trial 9 finished with value: 0.3824964470433113 and parameters: {'hidden_dim': 119, 'id_embed_dim': 15, 'lr': 0.005417982028657189, 'batch_size': 64, 'alpha': 0.15544179926859505}. Best is trial 7 with value: 0.21616157194725552.\n",
      "[I 2025-04-20 12:54:38,819] Trial 10 finished with value: 0.018467253480190623 and parameters: {'hidden_dim': 126, 'id_embed_dim': 4, 'lr': 0.00043319597126693823, 'batch_size': 128, 'alpha': 0.010278669794276024}. Best is trial 10 with value: 0.018467253480190623.\n",
      "[I 2025-04-20 12:54:39,108] Trial 11 finished with value: 0.050705293627609886 and parameters: {'hidden_dim': 125, 'id_embed_dim': 4, 'lr': 0.0004331454411946817, 'batch_size': 128, 'alpha': 0.020377590876832254}. Best is trial 10 with value: 0.018467253480190623.\n",
      "[I 2025-04-20 12:54:39,392] Trial 12 finished with value: 0.06862059442844606 and parameters: {'hidden_dim': 128, 'id_embed_dim': 4, 'lr': 0.0004097123958216584, 'batch_size': 128, 'alpha': 0.024509369484629978}. Best is trial 10 with value: 0.018467253480190623.\n",
      "[I 2025-04-20 12:54:39,676] Trial 13 finished with value: 0.20161685650061845 and parameters: {'hidden_dim': 109, 'id_embed_dim': 6, 'lr': 0.00010222567944379758, 'batch_size': 128, 'alpha': 0.016834487997776315}. Best is trial 10 with value: 0.018467253480190623.\n",
      "[I 2025-04-20 12:54:39,930] Trial 14 finished with value: 0.15745697366563896 and parameters: {'hidden_dim': 67, 'id_embed_dim': 6, 'lr': 0.0005148884750630079, 'batch_size': 128, 'alpha': 0.053599869873913034}. Best is trial 10 with value: 0.018467253480190623.\n",
      "[I 2025-04-20 12:54:40,195] Trial 15 finished with value: 0.14770230057096123 and parameters: {'hidden_dim': 91, 'id_embed_dim': 6, 'lr': 0.0005398019662846082, 'batch_size': 128, 'alpha': 0.05342812940886601}. Best is trial 10 with value: 0.018467253480190623.\n",
      "[I 2025-04-20 12:54:40,468] Trial 16 finished with value: 0.11856737094266075 and parameters: {'hidden_dim': 119, 'id_embed_dim': 4, 'lr': 0.00022830446308686335, 'batch_size': 128, 'alpha': 0.018382127883829463}. Best is trial 10 with value: 0.018467253480190623.\n",
      "[I 2025-04-20 12:54:40,722] Trial 17 finished with value: 0.24758653667636385 and parameters: {'hidden_dim': 71, 'id_embed_dim': 11, 'lr': 0.009085603053553689, 'batch_size': 128, 'alpha': 0.11690033514077712}. Best is trial 10 with value: 0.018467253480190623.\n",
      "[I 2025-04-20 12:54:40,994] Trial 18 finished with value: 0.13747063850549826 and parameters: {'hidden_dim': 105, 'id_embed_dim': 8, 'lr': 0.0006046358886938776, 'batch_size': 128, 'alpha': 0.05884501761909892}. Best is trial 10 with value: 0.018467253480190623.\n",
      "[I 2025-04-20 12:54:41,530] Trial 19 finished with value: 0.25244877952382083 and parameters: {'hidden_dim': 126, 'id_embed_dim': 5, 'lr': 0.00011773262750573366, 'batch_size': 32, 'alpha': 0.08965909330352206}. Best is trial 10 with value: 0.018467253480190623.\n",
      "[I 2025-04-20 12:54:41,786] Trial 20 finished with value: 0.05524473458080363 and parameters: {'hidden_dim': 80, 'id_embed_dim': 7, 'lr': 0.00021848641754492216, 'batch_size': 128, 'alpha': 0.010002571364330276}. Best is trial 10 with value: 0.018467253480190623.\n",
      "[I 2025-04-20 12:54:42,044] Trial 21 finished with value: 0.22040918738322152 and parameters: {'hidden_dim': 82, 'id_embed_dim': 7, 'lr': 0.000243005553444179, 'batch_size': 128, 'alpha': 0.032548040804961584}. Best is trial 10 with value: 0.018467253480190623.\n",
      "[I 2025-04-20 12:54:42,294] Trial 22 finished with value: 0.019609688788204266 and parameters: {'hidden_dim': 54, 'id_embed_dim': 5, 'lr': 0.0007370101775667387, 'batch_size': 128, 'alpha': 0.012070261300097746}. Best is trial 10 with value: 0.018467253480190623.\n",
      "[I 2025-04-20 12:54:42,550] Trial 23 finished with value: 0.1098865645944624 and parameters: {'hidden_dim': 55, 'id_embed_dim': 5, 'lr': 0.0007440533949339072, 'batch_size': 128, 'alpha': 0.0428966601779497}. Best is trial 10 with value: 0.018467253480190623.\n",
      "[I 2025-04-20 12:54:42,792] Trial 24 finished with value: 0.14634920544642255 and parameters: {'hidden_dim': 33, 'id_embed_dim': 5, 'lr': 0.0021924268321325117, 'batch_size': 128, 'alpha': 0.08098362821153261}. Best is trial 10 with value: 0.018467253480190623.\n",
      "[I 2025-04-20 12:54:43,072] Trial 25 finished with value: 0.273305398629124 and parameters: {'hidden_dim': 54, 'id_embed_dim': 4, 'lr': 0.0008280384770074693, 'batch_size': 128, 'alpha': 0.125615182583266}. Best is trial 10 with value: 0.018467253480190623.\n",
      "[I 2025-04-20 12:54:43,553] Trial 26 finished with value: 0.12216071504399292 and parameters: {'hidden_dim': 44, 'id_embed_dim': 10, 'lr': 0.00040373996768536567, 'batch_size': 32, 'alpha': 0.06523410590839265}. Best is trial 10 with value: 0.018467253480190623.\n",
      "[I 2025-04-20 12:54:43,845] Trial 27 finished with value: 0.14878736335532108 and parameters: {'hidden_dim': 113, 'id_embed_dim': 7, 'lr': 0.00035318533800224035, 'batch_size': 128, 'alpha': 0.04066950939323208}. Best is trial 10 with value: 0.018467253480190623.\n",
      "[I 2025-04-20 12:54:44,104] Trial 28 finished with value: 0.4148758656548378 and parameters: {'hidden_dim': 60, 'id_embed_dim': 5, 'lr': 0.00015558122292746445, 'batch_size': 128, 'alpha': 0.037918562633819694}. Best is trial 10 with value: 0.018467253480190623.\n",
      "[I 2025-04-20 12:54:44,642] Trial 29 finished with value: 0.30677998155579533 and parameters: {'hidden_dim': 96, 'id_embed_dim': 12, 'lr': 0.0008419384102502774, 'batch_size': 32, 'alpha': 0.2017775488387083}. Best is trial 10 with value: 0.018467253480190623.\n",
      "[I 2025-04-20 12:54:44,902] Trial 30 finished with value: 0.4332539174789773 and parameters: {'hidden_dim': 74, 'id_embed_dim': 6, 'lr': 0.00031973479603900035, 'batch_size': 128, 'alpha': 0.09813844756637795}. Best is trial 10 with value: 0.018467253480190623.\n",
      "[I 2025-04-20 12:54:45,168] Trial 31 finished with value: 0.14901173260427059 and parameters: {'hidden_dim': 77, 'id_embed_dim': 7, 'lr': 0.00023602635232895428, 'batch_size': 128, 'alpha': 0.02123340617654092}. Best is trial 10 with value: 0.018467253480190623.\n",
      "[I 2025-04-20 12:54:45,434] Trial 32 finished with value: 0.018565165005008082 and parameters: {'hidden_dim': 86, 'id_embed_dim': 4, 'lr': 0.000518153355088785, 'batch_size': 128, 'alpha': 0.010800092500503317}. Best is trial 10 with value: 0.018467253480190623.\n",
      "[I 2025-04-20 12:54:45,707] Trial 33 finished with value: 0.0944380852064692 and parameters: {'hidden_dim': 121, 'id_embed_dim': 4, 'lr': 0.0005566726761608042, 'batch_size': 128, 'alpha': 0.035980299041746946}. Best is trial 10 with value: 0.018467253480190623.\n",
      "[I 2025-04-20 12:54:45,967] Trial 34 finished with value: 0.017803803982591272 and parameters: {'hidden_dim': 88, 'id_embed_dim': 5, 'lr': 0.0006846283477045229, 'batch_size': 128, 'alpha': 0.010424250270816048}. Best is trial 34 with value: 0.017803803982591272.\n",
      "[I 2025-04-20 12:54:46,484] Trial 35 finished with value: 0.41607298797234554 and parameters: {'hidden_dim': 86, 'id_embed_dim': 9, 'lr': 0.0011327482974360188, 'batch_size': 32, 'alpha': 0.27850629291936446}. Best is trial 34 with value: 0.017803803982591272.\n",
      "[I 2025-04-20 12:54:46,744] Trial 36 finished with value: 0.14442716639741024 and parameters: {'hidden_dim': 87, 'id_embed_dim': 5, 'lr': 0.0007071141828543831, 'batch_size': 128, 'alpha': 0.06517155005605843}. Best is trial 34 with value: 0.017803803982591272.\n",
      "[I 2025-04-20 12:54:47,011] Trial 37 finished with value: 0.02323670379985544 and parameters: {'hidden_dim': 103, 'id_embed_dim': 5, 'lr': 0.0017306217525116826, 'batch_size': 128, 'alpha': 0.013421573793700138}. Best is trial 34 with value: 0.017803803982591272.\n",
      "[I 2025-04-20 12:54:47,251] Trial 38 finished with value: 0.09615379011720643 and parameters: {'hidden_dim': 42, 'id_embed_dim': 9, 'lr': 0.001047693037385431, 'batch_size': 128, 'alpha': 0.0469556761973005}. Best is trial 34 with value: 0.017803803982591272.\n",
      "[I 2025-04-20 12:54:47,772] Trial 39 finished with value: 0.14409856845561722 and parameters: {'hidden_dim': 98, 'id_embed_dim': 6, 'lr': 0.00031077076865082304, 'batch_size': 32, 'alpha': 0.07384392812002787}. Best is trial 34 with value: 0.017803803982591272.\n",
      "[I 2025-04-20 12:54:48,104] Trial 40 finished with value: 0.3139862568306744 and parameters: {'hidden_dim': 65, 'id_embed_dim': 8, 'lr': 0.0014416538861517607, 'batch_size': 64, 'alpha': 0.20231098391066904}. Best is trial 34 with value: 0.017803803982591272.\n",
      "[I 2025-04-20 12:54:48,370] Trial 41 finished with value: 0.056269481217950806 and parameters: {'hidden_dim': 104, 'id_embed_dim': 5, 'lr': 0.002028065397500406, 'batch_size': 128, 'alpha': 0.03108624152772923}. Best is trial 34 with value: 0.017803803982591272.\n",
      "[I 2025-04-20 12:54:48,638] Trial 42 finished with value: 0.01759335958868041 and parameters: {'hidden_dim': 101, 'id_embed_dim': 4, 'lr': 0.0018313170732954002, 'batch_size': 128, 'alpha': 0.010430422502153999}. Best is trial 42 with value: 0.01759335958868041.\n",
      "[I 2025-04-20 12:54:48,895] Trial 43 finished with value: 0.01670699941932707 and parameters: {'hidden_dim': 89, 'id_embed_dim': 4, 'lr': 0.002736351297268058, 'batch_size': 128, 'alpha': 0.010269695604900824}. Best is trial 43 with value: 0.01670699941932707.\n",
      "[I 2025-04-20 12:54:49,151] Trial 44 finished with value: 0.05137021957259429 and parameters: {'hidden_dim': 92, 'id_embed_dim': 4, 'lr': 0.003573196698439777, 'batch_size': 128, 'alpha': 0.028791798967077724}. Best is trial 43 with value: 0.01670699941932707.\n",
      "[I 2025-04-20 12:54:49,495] Trial 45 finished with value: 0.33158082038836373 and parameters: {'hidden_dim': 87, 'id_embed_dim': 4, 'lr': 0.0021744400976770445, 'batch_size': 64, 'alpha': 0.17995877569967417}. Best is trial 43 with value: 0.01670699941932707.\n",
      "[I 2025-04-20 12:54:49,763] Trial 46 finished with value: 0.10806883389788463 and parameters: {'hidden_dim': 110, 'id_embed_dim': 4, 'lr': 0.005068340840159494, 'batch_size': 128, 'alpha': 0.04986607275732529}. Best is trial 43 with value: 0.01670699941932707.\n",
      "[I 2025-04-20 12:54:50,030] Trial 47 finished with value: 0.045228470649038045 and parameters: {'hidden_dim': 97, 'id_embed_dim': 6, 'lr': 0.002819140633779243, 'batch_size': 128, 'alpha': 0.027144273727398117}. Best is trial 43 with value: 0.01670699941932707.\n",
      "[I 2025-04-20 12:54:50,288] Trial 48 finished with value: 0.3635976000836021 and parameters: {'hidden_dim': 85, 'id_embed_dim': 4, 'lr': 0.0025668548650653648, 'batch_size': 128, 'alpha': 0.2522916235833103}. Best is trial 43 with value: 0.01670699941932707.\n",
      "[I 2025-04-20 12:54:50,644] Trial 49 finished with value: 0.014435797089472749 and parameters: {'hidden_dim': 101, 'id_embed_dim': 6, 'lr': 0.0013087194611416187, 'batch_size': 64, 'alpha': 0.010880073737958325}. Best is trial 49 with value: 0.014435797089472749.\n",
      "[I 2025-04-20 12:54:50,992] Trial 50 finished with value: 0.2388404979741663 and parameters: {'hidden_dim': 94, 'id_embed_dim': 6, 'lr': 0.001162714072399558, 'batch_size': 64, 'alpha': 0.145257296981891}. Best is trial 49 with value: 0.014435797089472749.\n",
      "[I 2025-04-20 12:54:51,341] Trial 51 finished with value: 0.01407488911671746 and parameters: {'hidden_dim': 100, 'id_embed_dim': 5, 'lr': 0.0016425234142092206, 'batch_size': 64, 'alpha': 0.01025857425935153}. Best is trial 51 with value: 0.01407488911671746.\n",
      "[I 2025-04-20 12:54:51,696] Trial 52 finished with value: 0.04268472199153183 and parameters: {'hidden_dim': 101, 'id_embed_dim': 5, 'lr': 0.0018142210756406714, 'batch_size': 64, 'alpha': 0.02629600435301076}. Best is trial 51 with value: 0.01407488911671746.\n",
      "[I 2025-04-20 12:54:52,073] Trial 53 finished with value: 0.041675990573445655 and parameters: {'hidden_dim': 109, 'id_embed_dim': 6, 'lr': 0.0013947324815721566, 'batch_size': 64, 'alpha': 0.023723540283050553}. Best is trial 51 with value: 0.01407488911671746.\n",
      "[I 2025-04-20 12:54:52,469] Trial 54 finished with value: 0.12625594762034884 and parameters: {'hidden_dim': 100, 'id_embed_dim': 16, 'lr': 0.004417217231397342, 'batch_size': 64, 'alpha': 0.058688794107374216}. Best is trial 51 with value: 0.01407488911671746.\n",
      "[I 2025-04-20 12:54:52,817] Trial 55 finished with value: 0.08423280603903577 and parameters: {'hidden_dim': 91, 'id_embed_dim': 5, 'lr': 0.0009493475513814801, 'batch_size': 64, 'alpha': 0.045439750152560354}. Best is trial 51 with value: 0.01407488911671746.\n",
      "[I 2025-04-20 12:54:53,181] Trial 56 finished with value: 0.021686096948788577 and parameters: {'hidden_dim': 116, 'id_embed_dim': 7, 'lr': 0.0025534841197635653, 'batch_size': 64, 'alpha': 0.011458177878748343}. Best is trial 51 with value: 0.01407488911671746.\n",
      "[I 2025-04-20 12:54:53,529] Trial 57 finished with value: 0.054856797918341214 and parameters: {'hidden_dim': 79, 'id_embed_dim': 4, 'lr': 0.0015285611124194781, 'batch_size': 64, 'alpha': 0.034778377117335973}. Best is trial 51 with value: 0.01407488911671746.\n",
      "[I 2025-04-20 12:54:53,893] Trial 58 finished with value: 0.04086168412875412 and parameters: {'hidden_dim': 109, 'id_embed_dim': 13, 'lr': 0.0036059102527897127, 'batch_size': 64, 'alpha': 0.01972487141692862}. Best is trial 51 with value: 0.01407488911671746.\n",
      "[I 2025-04-20 12:54:54,289] Trial 59 finished with value: 0.1694660256231638 and parameters: {'hidden_dim': 123, 'id_embed_dim': 6, 'lr': 0.005971961036251648, 'batch_size': 64, 'alpha': 0.06941398857483992}. Best is trial 51 with value: 0.01407488911671746.\n",
      "[I 2025-04-20 12:54:54,671] Trial 60 finished with value: 0.1590912151605563 and parameters: {'hidden_dim': 105, 'id_embed_dim': 5, 'lr': 0.001305478507134894, 'batch_size': 64, 'alpha': 0.08342350174034718}. Best is trial 51 with value: 0.01407488911671746.\n",
      "[I 2025-04-20 12:54:54,942] Trial 61 finished with value: 0.02537094527169278 and parameters: {'hidden_dim': 83, 'id_embed_dim': 4, 'lr': 0.0004905254926831801, 'batch_size': 128, 'alpha': 0.013110713405222626}. Best is trial 51 with value: 0.01407488911671746.\n",
      "[I 2025-04-20 12:54:55,206] Trial 62 finished with value: 0.01643063682586627 and parameters: {'hidden_dim': 94, 'id_embed_dim': 4, 'lr': 0.0006442397635279862, 'batch_size': 128, 'alpha': 0.010411486699042894}. Best is trial 51 with value: 0.01407488911671746.\n",
      "[I 2025-04-20 12:54:55,468] Trial 63 finished with value: 0.043421185106263124 and parameters: {'hidden_dim': 90, 'id_embed_dim': 4, 'lr': 0.000686006837225115, 'batch_size': 128, 'alpha': 0.02143299306911072}. Best is trial 51 with value: 0.01407488911671746.\n",
      "[I 2025-04-20 12:54:55,736] Trial 64 finished with value: 0.08037720721467097 and parameters: {'hidden_dim': 100, 'id_embed_dim': 5, 'lr': 0.0009391538993473961, 'batch_size': 128, 'alpha': 0.03946717788203067}. Best is trial 51 with value: 0.01407488911671746.\n",
      "[I 2025-04-20 12:54:55,995] Trial 65 finished with value: 0.13025552448921635 and parameters: {'hidden_dim': 96, 'id_embed_dim': 5, 'lr': 0.0006334233411475392, 'batch_size': 128, 'alpha': 0.05178137625981873}. Best is trial 51 with value: 0.01407488911671746.\n",
      "[I 2025-04-20 12:54:56,510] Trial 66 finished with value: 0.054906432061715235 and parameters: {'hidden_dim': 90, 'id_embed_dim': 4, 'lr': 0.0004404093793411742, 'batch_size': 32, 'alpha': 0.030715074201466373}. Best is trial 51 with value: 0.01407488911671746.\n",
      "[I 2025-04-20 12:54:56,778] Trial 67 finished with value: 0.03300902628360834 and parameters: {'hidden_dim': 112, 'id_embed_dim': 11, 'lr': 0.0008768555137924032, 'batch_size': 128, 'alpha': 0.020232672450961574}. Best is trial 51 with value: 0.01407488911671746.\n",
      "[I 2025-04-20 12:54:57,051] Trial 68 finished with value: 0.08176565607239429 and parameters: {'hidden_dim': 117, 'id_embed_dim': 4, 'lr': 0.001894590307094412, 'batch_size': 128, 'alpha': 0.04232937168890283}. Best is trial 51 with value: 0.01407488911671746.\n",
      "[I 2025-04-20 12:54:57,305] Trial 69 finished with value: 0.03137732145929695 and parameters: {'hidden_dim': 73, 'id_embed_dim': 5, 'lr': 0.0016148233672997176, 'batch_size': 128, 'alpha': 0.019607684652551204}. Best is trial 51 with value: 0.01407488911671746.\n",
      "[I 2025-04-20 12:54:57,655] Trial 70 finished with value: 0.014284154862389528 and parameters: {'hidden_dim': 94, 'id_embed_dim': 6, 'lr': 0.0012097606035651797, 'batch_size': 64, 'alpha': 0.010449251496986334}. Best is trial 51 with value: 0.01407488911671746.\n",
      "[I 2025-04-20 12:54:58,006] Trial 71 finished with value: 0.0165264905059248 and parameters: {'hidden_dim': 95, 'id_embed_dim': 6, 'lr': 0.0011850791588386969, 'batch_size': 64, 'alpha': 0.011839330373959603}. Best is trial 51 with value: 0.01407488911671746.\n",
      "[I 2025-04-20 12:54:58,356] Trial 72 finished with value: 0.01738541696528743 and parameters: {'hidden_dim': 95, 'id_embed_dim': 7, 'lr': 0.0012568698509788099, 'batch_size': 64, 'alpha': 0.011857748515672586}. Best is trial 51 with value: 0.01407488911671746.\n",
      "[I 2025-04-20 12:54:58,711] Trial 73 finished with value: 0.0431726328972587 and parameters: {'hidden_dim': 94, 'id_embed_dim': 7, 'lr': 0.0012178147999824399, 'batch_size': 64, 'alpha': 0.02529285821150672}. Best is trial 51 with value: 0.01407488911671746.\n",
      "[I 2025-04-20 12:54:59,068] Trial 74 finished with value: 0.058676422538613916 and parameters: {'hidden_dim': 94, 'id_embed_dim': 8, 'lr': 0.002435788529080663, 'batch_size': 64, 'alpha': 0.03484338585331709}. Best is trial 51 with value: 0.01407488911671746.\n",
      "[I 2025-04-20 12:54:59,421] Trial 75 finished with value: 0.10004051085701562 and parameters: {'hidden_dim': 102, 'id_embed_dim': 6, 'lr': 0.001056832256184937, 'batch_size': 64, 'alpha': 0.055945904694271395}. Best is trial 51 with value: 0.01407488911671746.\n",
      "[I 2025-04-20 12:54:59,780] Trial 76 finished with value: 0.038696808362365664 and parameters: {'hidden_dim': 107, 'id_embed_dim': 6, 'lr': 0.002989673519636688, 'batch_size': 64, 'alpha': 0.019681136997203766}. Best is trial 51 with value: 0.01407488911671746.\n",
      "[I 2025-04-20 12:55:00,132] Trial 77 finished with value: 0.0555474245010462 and parameters: {'hidden_dim': 100, 'id_embed_dim': 7, 'lr': 0.001355887021627775, 'batch_size': 64, 'alpha': 0.031402347849532844}. Best is trial 51 with value: 0.01407488911671746.\n",
      "[I 2025-04-20 12:55:00,481] Trial 78 finished with value: 0.014349660058890967 and parameters: {'hidden_dim': 97, 'id_embed_dim': 7, 'lr': 0.0016341048115214732, 'batch_size': 64, 'alpha': 0.01017606823574622}. Best is trial 51 with value: 0.01407488911671746.\n",
      "[I 2025-04-20 12:55:00,826] Trial 79 finished with value: 0.1749961287679529 and parameters: {'hidden_dim': 83, 'id_embed_dim': 9, 'lr': 0.0008034174816308266, 'batch_size': 64, 'alpha': 0.10022670014472629}. Best is trial 51 with value: 0.01407488911671746.\n",
      "[I 2025-04-20 12:55:01,181] Trial 80 finished with value: 0.06818497438627974 and parameters: {'hidden_dim': 97, 'id_embed_dim': 8, 'lr': 0.0016431473931490556, 'batch_size': 64, 'alpha': 0.0415742199077101}. Best is trial 51 with value: 0.01407488911671746.\n",
      "[I 2025-04-20 12:55:01,530] Trial 81 finished with value: 0.016668851186234252 and parameters: {'hidden_dim': 94, 'id_embed_dim': 6, 'lr': 0.0020584247435152985, 'batch_size': 64, 'alpha': 0.010262971843542485}. Best is trial 51 with value: 0.01407488911671746.\n",
      "[I 2025-04-20 12:55:01,880] Trial 82 finished with value: 0.027608483525595272 and parameters: {'hidden_dim': 94, 'id_embed_dim': 7, 'lr': 0.0021227722163691533, 'batch_size': 64, 'alpha': 0.01779754593954449}. Best is trial 51 with value: 0.01407488911671746.\n",
      "[I 2025-04-20 12:55:02,226] Trial 83 finished with value: 0.04497260751580834 and parameters: {'hidden_dim': 89, 'id_embed_dim': 6, 'lr': 0.001211973686697955, 'batch_size': 64, 'alpha': 0.027148555012809068}. Best is trial 51 with value: 0.01407488911671746.\n",
      "[I 2025-04-20 12:55:02,574] Trial 84 finished with value: 0.02490416359632535 and parameters: {'hidden_dim': 93, 'id_embed_dim': 7, 'lr': 0.0014491414054107865, 'batch_size': 64, 'alpha': 0.015506969092995326}. Best is trial 51 with value: 0.01407488911671746.\n",
      "[I 2025-04-20 12:55:02,924] Trial 85 finished with value: 0.014592293005688746 and parameters: {'hidden_dim': 99, 'id_embed_dim': 6, 'lr': 0.001037552572817805, 'batch_size': 64, 'alpha': 0.010267370397168461}. Best is trial 51 with value: 0.01407488911671746.\n",
      "[I 2025-04-20 12:55:03,300] Trial 86 finished with value: 0.058446794636267466 and parameters: {'hidden_dim': 98, 'id_embed_dim': 6, 'lr': 0.0010292848332848898, 'batch_size': 64, 'alpha': 0.036839498135463306}. Best is trial 51 with value: 0.01407488911671746.\n",
      "[I 2025-04-20 12:55:03,673] Trial 87 finished with value: 0.044735267870408255 and parameters: {'hidden_dim': 107, 'id_embed_dim': 6, 'lr': 0.0019054857068723954, 'batch_size': 64, 'alpha': 0.026874719436119063}. Best is trial 51 with value: 0.01407488911671746.\n",
      "[I 2025-04-20 12:55:04,082] Trial 88 finished with value: 0.33533004352024626 and parameters: {'hidden_dim': 98, 'id_embed_dim': 6, 'lr': 0.002233062681907552, 'batch_size': 64, 'alpha': 0.21690599442569886}. Best is trial 51 with value: 0.01407488911671746.\n",
      "[I 2025-04-20 12:55:04,459] Trial 89 finished with value: 0.014862721071655588 and parameters: {'hidden_dim': 103, 'id_embed_dim': 5, 'lr': 0.0016284778204964788, 'batch_size': 64, 'alpha': 0.010131915900908657}. Best is trial 51 with value: 0.01407488911671746.\n",
      "[I 2025-04-20 12:55:04,814] Trial 90 finished with value: 0.08557929367499244 and parameters: {'hidden_dim': 103, 'id_embed_dim': 5, 'lr': 0.0016526831605340744, 'batch_size': 64, 'alpha': 0.04755646598257811}. Best is trial 51 with value: 0.01407488911671746.\n",
      "[I 2025-04-20 12:55:05,172] Trial 91 finished with value: 0.030248944920704776 and parameters: {'hidden_dim': 106, 'id_embed_dim': 5, 'lr': 0.0015157264113278678, 'batch_size': 64, 'alpha': 0.018394493118601443}. Best is trial 51 with value: 0.01407488911671746.\n",
      "[I 2025-04-20 12:55:05,524] Trial 92 finished with value: 0.01664601496063677 and parameters: {'hidden_dim': 92, 'id_embed_dim': 6, 'lr': 0.002363517005573265, 'batch_size': 64, 'alpha': 0.010246336113121153}. Best is trial 51 with value: 0.01407488911671746.\n",
      "[I 2025-04-20 12:55:05,885] Trial 93 finished with value: 0.03603592038826835 and parameters: {'hidden_dim': 99, 'id_embed_dim': 7, 'lr': 0.0023704941193187805, 'batch_size': 64, 'alpha': 0.024064046690267536}. Best is trial 51 with value: 0.01407488911671746.\n",
      "[I 2025-04-20 12:55:06,239] Trial 94 finished with value: 0.06802628284558318 and parameters: {'hidden_dim': 92, 'id_embed_dim': 6, 'lr': 0.0009539520275036477, 'batch_size': 64, 'alpha': 0.03596396050430223}. Best is trial 51 with value: 0.01407488911671746.\n",
      "[I 2025-04-20 12:55:06,596] Trial 95 finished with value: 0.02616244338844952 and parameters: {'hidden_dim': 103, 'id_embed_dim': 6, 'lr': 0.0011112293914677298, 'batch_size': 64, 'alpha': 0.0170158251010659}. Best is trial 51 with value: 0.01407488911671746.\n",
      "[I 2025-04-20 12:55:06,940] Trial 96 finished with value: 0.049451238790849096 and parameters: {'hidden_dim': 96, 'id_embed_dim': 6, 'lr': 0.002003269033449385, 'batch_size': 64, 'alpha': 0.02982372815928299}. Best is trial 51 with value: 0.01407488911671746.\n",
      "[I 2025-04-20 12:55:07,297] Trial 97 finished with value: 0.44485834308136674 and parameters: {'hidden_dim': 113, 'id_embed_dim': 5, 'lr': 0.0007728423912738536, 'batch_size': 64, 'alpha': 0.2993356071957025}. Best is trial 51 with value: 0.01407488911671746.\n",
      "[I 2025-04-20 12:55:07,650] Trial 98 finished with value: 0.01813739669838346 and parameters: {'hidden_dim': 104, 'id_embed_dim': 7, 'lr': 0.0033860699050590223, 'batch_size': 64, 'alpha': 0.010325394704555879}. Best is trial 51 with value: 0.01407488911671746.\n",
      "[I 2025-04-20 12:55:08,004] Trial 99 finished with value: 0.025282389855474457 and parameters: {'hidden_dim': 101, 'id_embed_dim': 5, 'lr': 0.0013483090458187015, 'batch_size': 64, 'alpha': 0.01653466512833396}. Best is trial 51 with value: 0.01407488911671746.\n"
     ]
    },
    {
     "name": "stdout",
     "output_type": "stream",
     "text": [
      "Best hyperparams: {'hidden_dim': 100, 'id_embed_dim': 5, 'lr': 0.0016425234142092206, 'batch_size': 64, 'alpha': 0.01025857425935153}\n"
     ]
    }
   ],
   "source": [
    "study = optuna.create_study(direction='minimize')\n",
    "study.optimize(lambda trial: objective(trial, train_df_split, val_df_split, id_map, input_dim, id_count, output_dim, device), n_trials=100)\n",
    "\n",
    "best_params = study.best_params\n",
    "print(\"Best hyperparams:\", best_params)"
   ]
  },
  {
   "cell_type": "code",
   "execution_count": 6,
   "id": "b4c89fea",
   "metadata": {},
   "outputs": [],
   "source": [
    "# Final model\n",
    "model = RNNClassifier(\n",
    "    input_dim=input_dim,\n",
    "    hidden_dim=best_params['hidden_dim'],\n",
    "    id_count=id_count,\n",
    "    id_embed_dim=best_params['id_embed_dim'],\n",
    "    output_dim=output_dim\n",
    ").to(device)\n",
    "\n",
    "optimizer = torch.optim.Adam(model.parameters(), lr=best_params['lr'])\n",
    "criterion = OrdinalLabelSmoothingLoss(num_classes=output_dim, alpha=best_params['alpha'])\n",
    "\n",
    "train_loader = DataLoader(MoodDataset(train_df_split, id_map), batch_size=best_params['batch_size'], shuffle=True)\n",
    "val_loader = DataLoader(MoodDataset(val_df_split, id_map), batch_size=best_params['batch_size'])"
   ]
  },
  {
   "cell_type": "code",
   "execution_count": 7,
   "id": "f0bfbe90",
   "metadata": {},
   "outputs": [
    {
     "name": "stdout",
     "output_type": "stream",
     "text": [
      "Epoch 1: train loss = 0.0994, val loss = 0.0787\n",
      "Epoch 2: train loss = 0.0546, val loss = 0.0372\n",
      "Epoch 3: train loss = 0.0237, val loss = 0.0193\n",
      "Epoch 4: train loss = 0.0133, val loss = 0.0180\n",
      "Epoch 5: train loss = 0.0107, val loss = 0.0169\n",
      "Epoch 6: train loss = 0.0099, val loss = 0.0161\n",
      "Epoch 7: train loss = 0.0095, val loss = 0.0154\n",
      "Epoch 8: train loss = 0.0091, val loss = 0.0150\n",
      "Epoch 9: train loss = 0.0090, val loss = 0.0153\n",
      "Epoch 10: train loss = 0.0086, val loss = 0.0146\n",
      "Epoch 11: train loss = 0.0083, val loss = 0.0147\n",
      "Epoch 12: train loss = 0.0080, val loss = 0.0147\n",
      "Epoch 13: train loss = 0.0079, val loss = 0.0139\n",
      "Epoch 14: train loss = 0.0076, val loss = 0.0144\n",
      "Epoch 15: train loss = 0.0073, val loss = 0.0142\n",
      "Epoch 16: train loss = 0.0072, val loss = 0.0146\n",
      "Epoch 17: train loss = 0.0070, val loss = 0.0140\n",
      "Epoch 18: train loss = 0.0066, val loss = 0.0143\n",
      "Epoch 19: train loss = 0.0065, val loss = 0.0145\n",
      "Epoch 20: train loss = 0.0063, val loss = 0.0149\n",
      "Epoch 21: train loss = 0.0062, val loss = 0.0146\n",
      "Epoch 22: train loss = 0.0060, val loss = 0.0150\n",
      "Epoch 23: train loss = 0.0059, val loss = 0.0147\n",
      "Epoch 24: train loss = 0.0057, val loss = 0.0149\n",
      "Epoch 25: train loss = 0.0055, val loss = 0.0154\n"
     ]
    }
   ],
   "source": [
    "model = train_final_model(model, train_loader, val_loader, optimizer, criterion, device, num_epochs=25)"
   ]
  },
  {
   "cell_type": "code",
   "execution_count": 8,
   "id": "1e0c8626",
   "metadata": {},
   "outputs": [
    {
     "name": "stdout",
     "output_type": "stream",
     "text": [
      "MAPE: 9.88%, MAE: 0.68, MSE: 0.87, R_squared: -0.51\n"
     ]
    },
    {
     "data": {
      "image/png": "[encoded data removed]",
      "text/plain": [
       "<Figure size 800x500 with 1 Axes>"
      ]
     },
     "metadata": {},
     "output_type": "display_data"
    }
   ],
   "source": [
    "plot_mood_predictions(model, val_loader, device)"
   ]
  },
  {
   "cell_type": "code",
   "execution_count": 9,
   "id": "e3d4b186",
   "metadata": {},
   "outputs": [
    {
     "name": "stdout",
     "output_type": "stream",
     "text": [
      "Accuracy: 0.2632\n"
     ]
    }
   ],
   "source": [
    "from mood_RNN_classifier import get_accuracy_rate\n",
    "accuracy = get_accuracy_rate(model, val_loader, device)"
   ]
  },
  {
   "cell_type": "code",
   "execution_count": 10,
   "id": "39a1aedd",
   "metadata": {},
   "outputs": [
    {
     "name": "stdout",
     "output_type": "stream",
     "text": [
      "         id  predicted_mood_class\n",
      "0   AS14.01                    13\n",
      "1   AS14.02                    14\n",
      "2   AS14.03                    16\n",
      "3   AS14.05                    12\n",
      "4   AS14.06                    13\n",
      "5   AS14.07                     9\n",
      "6   AS14.08                    13\n",
      "7   AS14.09                    14\n",
      "8   AS14.12                    14\n",
      "9   AS14.13                    15\n",
      "10  AS14.14                    14\n",
      "11  AS14.15                    13\n",
      "12  AS14.16                    13\n",
      "13  AS14.17                    14\n",
      "14  AS14.19                    13\n",
      "15  AS14.20                    12\n",
      "16  AS14.23                    12\n",
      "17  AS14.24                    13\n",
      "18  AS14.25                    13\n",
      "19  AS14.26                    15\n",
      "20  AS14.27                    15\n",
      "21  AS14.28                    16\n",
      "22  AS14.29                    15\n",
      "23  AS14.30                    15\n",
      "24  AS14.31                    13\n",
      "25  AS14.32                    15\n",
      "26  AS14.33                    13\n"
     ]
    }
   ],
   "source": [
    "# Run predictions on test_df\n",
    "test_predictions = predict(model, test_df, id_map, device)\n",
    "\n",
    "# Attach predictions to test_df\n",
    "test_df_with_preds = test_df.copy()\n",
    "test_df_with_preds['predicted_mood_class'] = test_predictions\n",
    "\n",
    "# Optional: save to CSV or examine\n",
    "print(test_df_with_preds[['id', 'predicted_mood_class']])"
   ]
  }
 ],
 "metadata": {
  "kernelspec": {
   "display_name": ".venv",
   "language": "python",
   "name": "python3"
  },
  "language_info": {
   "codemirror_mode": {
    "name": "ipython",
    "version": 3
   },
   "file_extension": ".py",
   "mimetype": "text/x-python",
   "name": "python",
   "nbconvert_exporter": "python",
   "pygments_lexer": "ipython3",
   "version": "3.11.6"
  }
 },
 "nbformat": 4,
 "nbformat_minor": 5
}
